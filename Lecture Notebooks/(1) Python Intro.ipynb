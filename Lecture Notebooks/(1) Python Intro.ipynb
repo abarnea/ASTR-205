{
 "cells": [
  {
   "cell_type": "markdown",
   "metadata": {
    "slideshow": {
     "slide_type": "slide"
    }
   },
   "source": [
    "<center>\n",
    "\n",
    "## <font color='maroon'>ASTR 20500</font>\n",
    "\n",
    "## <font color='maroon'>Introduction to Python programming\n",
    "## <font color='maroon'>with elements of Astro Statistics</font>\n",
    "</center>\n",
    "<p><p>\n",
    "    \n",
    "<center>    \n",
    "\n",
    "### <font color='maroon'>Instructor: \n",
    "   \n",
    "<p>    \n",
    "<center>    \n",
    "Andrey Kravtsov (he/him/his, email: <tt>kravtsov@uchicago.edu</tt>)<br>\n",
    "Professor, Department of Astronomy & Astrophysics\n",
    "</center>\n",
    "\n",
    "\n"
   ]
  },
  {
   "cell_type": "markdown",
   "metadata": {
    "slideshow": {
     "slide_type": "slide"
    }
   },
   "source": [
    "###  <font color='maroon'>Teaching Assistants: \n",
    "    \n",
    "Devin Hoover (djhoover99@uchicago.edu)\n",
    "   \n",
    "Alexandra Masegian (amasegian@uchicago.edu)\n",
    "\n",
    "Aster Taylor (astertaylor@uchicago.edu)\n",
    "\n",
    "Yunchong Zhang (aruba19th@gmail.com)"
   ]
  },
  {
   "cell_type": "markdown",
   "metadata": {
    "slideshow": {
     "slide_type": "skip"
    }
   },
   "source": [
    "### <font color='blue'>Communication</font>\n",
    "\n",
    "**Preferred channel of general communication outside class:** slack workspace for this course: <tt><a href=\"https://a205f21.slack.com/\">a205f21.slack.com</a></tt> - we will answer questions on slack as soon as we can. \n",
    "\n",
    "E-mail is second possible way of communication with instructor and TAs, but we encourage you to use slack for all your communications with us outside class. "
   ]
  },
  {
   "cell_type": "markdown",
   "metadata": {
    "slideshow": {
     "slide_type": "slide"
    }
   },
   "source": [
    "### <font color='darkblue'>The goal for today is to unpack the course title a bit:</font> \n",
    "\n",
    "### <font color='Red'>Introduction</font> to <font color='darkgreen'>Python</font> <font color='purple'>programming</font> with <font color='magenta'>elements of astro statistics</font>"
   ]
  },
  {
   "cell_type": "markdown",
   "metadata": {
    "slideshow": {
     "slide_type": "skip"
    }
   },
   "source": [
    "This course is meant as an intro to programming using Python language and statistics, so we will try to cater to people with little experience in both. \n",
    "\n",
    "However, we will try to keep the course challenging for those of you with more experience by providing more difficult/advanced options. "
   ]
  },
  {
   "cell_type": "markdown",
   "metadata": {
    "slideshow": {
     "slide_type": "skip"
    }
   },
   "source": [
    "We have only 8 weeks in this course and so we will have time to cover the basics most useful in practice. This will provide you a starting point for exploring Python and statistics in your future studies and research."
   ]
  },
  {
   "cell_type": "markdown",
   "metadata": {
    "slideshow": {
     "slide_type": "slide"
    }
   },
   "source": [
    "### <font color='darkblue'>Deductive reasoning\n",
    "\n",
    "<p>\n",
    "<center><a href=\"https://www.theatlantic.com/technology/archive/2017/03/aristotle-computer/518697/\"><img align=center width=1000 src=\"https://cdn.theatlantic.com/thumbor/sX6GyV4rgamTo_e5ZZzJH-NEk88=/0x104:2000x1229/1920x1080/media/img/2017/03/08/Aristotle1_1/original.jpg\"></img></a></center>"
   ]
  },
  {
   "cell_type": "markdown",
   "metadata": {
    "slideshow": {
     "slide_type": "slide"
    }
   },
   "source": [
    "[//]: # \"Aristotle,  Organon, 4th cent. BC\"\n",
    "\n",
    "<center><img align=center width=400 src=\"https://upload.wikimedia.org/wikipedia/commons/thumb/a/ae/Aristotle_Altemps_Inv8575.jpg/800px-Aristotle_Altemps_Inv8575.jpg\"></img>\n",
    "</center>\n",
    "<p>\n",
    "<center>Aristotle, 384–322 BC\n",
    "</center>"
   ]
  },
  {
   "cell_type": "markdown",
   "metadata": {
    "slideshow": {
     "slide_type": "slide"
    }
   },
   "source": [
    "Aristotelian logical syllogisms:\n",
    "\n",
    "    1. if A=B  # 1st premise\n",
    "    2. and B=C # 2nd premise\n",
    "    3. Therefore A=C # conclusion\n",
    "\n",
    "Example:\n",
    "\n",
    "    1. Sun rises every day in Chicago. \n",
    "    2. Tomorrow will be another day. \n",
    "    3. Therefore Sun will rise at some point tomorrow in Chicago. "
   ]
  },
  {
   "cell_type": "markdown",
   "metadata": {
    "slideshow": {
     "slide_type": "skip"
    }
   },
   "source": [
    "The statements are strictly categorical, there is no expressed doubt about them. \n",
    "\n",
    "**Question:** What is wrong with the 1st premise above, which makes conclusion not valid universally?"
   ]
  },
  {
   "cell_type": "markdown",
   "metadata": {
    "slideshow": {
     "slide_type": "slide"
    }
   },
   "source": [
    "### <font color='darkblue'>Development of mathematical logic in the 19th century\n",
    "\n",
    "[George Boole](https://georgeboole.com/) in 1847 published [\"*The Mathematical Analysis of Logic*\"](https://books.google.com/books?id=zv4YAQAAIAAJ&pg=PP9#v=onepage&q&f=false), which showed that a whole mathematical system can be constructed by mapping rules of Aristotlean logic to mathematical operations with logical variables (now called *Boolean*). Boole then further developed this theory in 1854 work [\"*The Laws of Thought*\"](\"https://en.wikipedia.org/wiki/The_Laws_of_Thought\"). See detailed story of this and other 19th century developments of mathematical logic [here](https://www.maa.org/press/periodicals/convergence/origins-of-boolean-algebra-in-the-logic-of-classes-george-boole-john-venn-and-c-s-peirce).  \n",
    "\n",
    "<p>\n",
    "<p>\n",
    "<center><img align=center width=600 src=\"https://i1.wp.com/www.irishphilosophy.com/wp-content/uploads/2014/12/Cool-Boole-tweet.jpg?resize=768%2C383&ssl=1\"></a>\n",
    " \n",
    " "
   ]
  },
  {
   "cell_type": "markdown",
   "metadata": {
    "slideshow": {
     "slide_type": "slide"
    }
   },
   "source": [
    "### <font color='darkblue'>On the mathematical logic of squirrels\n",
    "\n",
    "<p>\n",
    "\n",
    "<center><img align=center width=1000 src=\"https://mag.uchicago.edu/sites/default/files/20Winter_Golus_Squirrels_4.jpg\"></a>"
   ]
  },
  {
   "cell_type": "markdown",
   "metadata": {
    "slideshow": {
     "slide_type": "skip"
    }
   },
   "source": [
    "Consider shorthand **$x$ for \"is a squirrel\" and $y$ for \"[is hungry](https://mag.uchicago.edu/university-news/very-hungry-squirrels)\"**, \n",
    "\n",
    "then let's introduce shorthand $\\cdot$ for \"and\" and \"=\" for \"identical to\".\n",
    "    \n",
    "Then \n",
    "\n",
    "**$x\\cdot y=y\\cdot x$** \n",
    "\n",
    "encoding: \"is a squirrel and is hungry is identical to is hungry and is a squirrel\"\n",
    "\n",
    "because \"all sheep that are white\" is the same as \"all white sheep\". \n"
   ]
  },
  {
   "cell_type": "markdown",
   "metadata": {
    "slideshow": {
     "slide_type": "skip"
    }
   },
   "source": [
    "Then consider the case when $y=x$: \n",
    "\n",
    "$$x\\cdot x = x,$$ \n",
    "\n",
    "because \"is a squirrel and is a squirrel\" is the same as \"is a squirrel\". \n",
    "\n",
    "But then (using usual notation $x\\cdot x=x^2$): \n",
    "$$x\\cdot x-x=x^2-x=0,$$ \n",
    "\n",
    "which may look strange, but there are 2 numbers for which such relation works. "
   ]
  },
  {
   "cell_type": "markdown",
   "metadata": {
    "slideshow": {
     "slide_type": "skip"
    }
   },
   "source": [
    "This works if $x$ is 0 or 1. Thus statements such as \"something is squirrel\" can be thought of having value 0 (False) or 1 (True). "
   ]
  },
  {
   "cell_type": "markdown",
   "metadata": {
    "slideshow": {
     "slide_type": "skip"
    }
   },
   "source": [
    "### <font color='darkblue'>Additional operations and their consequences \n",
    "    \n",
    "We can use + as a shorthand for \"**or**\": $x+y$ is shorthand for \"something is a squirrel or is hungry\"\n",
    "\n",
    "\"+\" combines a collection of all squirrels and hungry creatures into a much larger collection. \n",
    "    "
   ]
  },
  {
   "cell_type": "markdown",
   "metadata": {
    "slideshow": {
     "slide_type": "skip"
    }
   },
   "source": [
    "$$x + {\\rm not}\\, x=1,$$ \n",
    "\n",
    "where ${\\rm not}\\, x$ is \"something is not a squirrel\" "
   ]
  },
  {
   "cell_type": "markdown",
   "metadata": {
    "slideshow": {
     "slide_type": "skip"
    }
   },
   "source": [
    "Not A\n",
    "\n",
    "A and B = A*B\n",
    "\n",
    "A or B = A + B\n",
    "\n",
    "\"Truth table\" of logical operations: \n",
    "\n",
    "    A\tB\tnot A\tA+B A*B\n",
    "    ----------------------------\n",
    "    T\tT\t  F   \tT\tT\n",
    "    T\tF\t  F\t   T\tF\n",
    "    F\t-\t  T\t   T\tF\n",
    "    F\t- \t T\t   F\tF\n"
   ]
  },
  {
   "cell_type": "markdown",
   "metadata": {
    "slideshow": {
     "slide_type": "slide"
    }
   },
   "source": [
    "### <font color='darkblue'>Development of \"digital electronic logic\" in the 20th century\n",
    "Idea of implementing Boolean logic in hardware using electronic circuits\n",
    "\n",
    "[Claude Shannon](https://en.wikipedia.org/wiki/Claude_Shannon) in 1938 [paper \"*A Symbolic Analysis of Relay \n",
    "and Switching Circuits*\"](http://www.ccapitalia.net/descarga/docs/1938-shannon-analysis-relay-switching-circuits.pdf) translated Boolean logic into electric logical gates (now implemented by transistors in all devices).\n",
    "\n",
    "<p>\n",
    "<center><img align=center width=400 src=\"https://www.juggle.org/wp-content/uploads/2017/08/Claude-Shannon-Juggling-1_html_m12b02aa7-743x1024.jpg\"</a>"
   ]
  },
  {
   "cell_type": "markdown",
   "metadata": {
    "slideshow": {
     "slide_type": "slide"
    }
   },
   "source": [
    "### <font color='darkblue'>Digital \"logic gates\"\n",
    "\n",
    "<p>\n",
    "<center><img align=center width=1000 src=\"https://www.circuitbasics.com/wp-content/uploads/2020/05/image-88.png\"</a>"
   ]
  },
  {
   "cell_type": "markdown",
   "metadata": {
    "slideshow": {
     "slide_type": "slide"
    }
   },
   "source": [
    "### <font color='darkblue'>Development of \"software logic\" in the 20th century\n",
    "\n",
    "[Alan Turing](https://www.turing.org.uk/publications/dnb.html) in his 1936 [paper \"*On Computable Numbers, with an Application to the Entscheidungsproblem*\"](https://londmathsoc.onlinelibrary.wiley.com/doi/abs/10.1112/plms/s2-42.1.230) developed an idea and a blueprint for a  \"universal computing machine\" that would be capable of performing any conceivable mathematical computation if it were representable as an algorithm implemented in a program.\n",
    "    \n",
    "The paper also provided the first rigorous demonstration that any computing logic that could be encoded in hardware could also be encoded in software.\n",
    "\n",
    "<p>\n",
    "<center><img align=center width=400 src=\"https://www.history.org.uk/library/1506/0000/0035/alan_turing_and_binary_code_image_640.jpg\"</a>"
   ]
  },
  {
   "cell_type": "markdown",
   "metadata": {
    "slideshow": {
     "slide_type": "skip"
    }
   },
   "source": [
    " Turing has also described an idea of *modern computer*, in which computer hardware, program, and data it operates on can all be stored on hardware in digital form.\n",
    " \n",
    "This later became known as the \"Von Neumann architecture\", but this is a misattribution (a common occurence in the sciences). John Von Neumann (famous mathematician) knew about Turing's work when the latter was doing research in Princeton (where Von Neumann was a faculty at the Institute for Advanced Studies). So much so that he wrote a letter in support of awarding Turing fellowship at Princeton after he defended his PhD (but Turing chose to go back to England). \n",
    "\n",
    "Von Neumann later implemented Turing's ideas in the project he led, which built the first electronic computers in 1943-1945. Von Neumann often credited Turing for inspiration of architectures of these computers. You can read more on Von Neumann and the story of construction of first computers [here](https://cacm.acm.org/magazines/2020/1/241712-von-neumann-thought-turings-universal-machine-was-simple-and-neat/fulltext). "
   ]
  },
  {
   "cell_type": "markdown",
   "metadata": {
    "slideshow": {
     "slide_type": "slide"
    }
   },
   "source": [
    "### <font color='darkblue'>Implementation of the idea in actual computers\n",
    "    \n",
    "[John Von Neumann](https://en.wikipedia.org/wiki/John_von_Neumann) led a project that resulted in the first implementation of Turing's idea of the \"stored program computer\" in the first electronic computers (called Electronic Numerical Integrator And Computer or ENIAC). These computers served as a blueprint for the general architecture of all subsequent computers.  \n",
    "\n",
    "\n",
    "<p>\n",
    "<center><img width=700 src=\"https://physicsworld.com/wp-content/uploads/2012/12/PW-2012-12-review-Campbell-Kelly-1.jpg\"></img></center>\n",
    "</p>"
   ]
  },
  {
   "cell_type": "markdown",
   "metadata": {
    "slideshow": {
     "slide_type": "skip"
    }
   },
   "source": [
    "Electronic computers use logic gates in different combinations/sequences to carry out various tasks and calculations. \n",
    "Logic gates operate with 1s and 0s, and so instructions (code) and data that is processed by computer at the hardware level is in the *binary* form (1s and 0s - each 1 or 0 represented by a \"bit\" - arranged in \"words\" of a certain length - e.g. 64-bit on modern computers).  \n",
    "\n",
    "Details are complicated (but you can get an idea from simplified examples like [this demonstration](http://improve.dk/adding-67-at-the-logic-gate-level/) of how one can arrange basic logic gates to add two 3-bit integers. "
   ]
  },
  {
   "cell_type": "markdown",
   "metadata": {
    "slideshow": {
     "slide_type": "skip"
    }
   },
   "source": [
    "It is possible to program in the \"machine code\" consisting of 1s and 0s arranged in \"words\" of fixed length (nowadays usually 64-bit long, where each *bit* holds 0 or 1) drafting instructions for the Central Processing Unit (CPU). \n",
    "\n",
    "However, this is not easy because such code is difficult for humans to read, which makes it prone to errors and difficult to underestand and maintain. It is also difficult to write complex code this way. \n",
    "\n",
    "Almost immediately after the first computers were built people realized that we need ***higher level programming languages***, which include a limited set of commands, control structures etc with a well-defined *syntax* (i.e., how the commands and control structions need to be written out). Programs written in such language are much more readable for humans. \n",
    "\n",
    "Special programs (compilers or interpreters) are translating high-level language programs into *machine code* (sequences 1's and 0's arranged in \"words) for execution. "
   ]
  },
  {
   "cell_type": "markdown",
   "metadata": {
    "slideshow": {
     "slide_type": "skip"
    }
   },
   "source": [
    "### <font color='darkblue'>Programming\n",
    "\n",
    ">*``the only operations which a machine cannot perform for us are those which\n",
    "we cannot describe in detail, or which could not be completed in a finite number of steps.''* - [E.T. Jaynes](https://en.wikipedia.org/wiki/Edwin_Thompson_Jaynes). [\"Probability: The Logic of Science\"](https://bayes.wustl.edu/etj/prob/book.pdf)\n",
    "\n",
    "Programming is a series of commands and instructions arranged according to strict *syntax* rules that can be translated into the form (machine code) that can be sent to a central processing unit (CPU) for execution. "
   ]
  },
  {
   "cell_type": "markdown",
   "metadata": {
    "slideshow": {
     "slide_type": "skip"
    }
   },
   "source": [
    "### <font color='darkblue'>Programming languages\n",
    "    \n",
    "The \"stored program\" paradigm has been used since the first computer, but at a hardware level  stored program on a computer looks like the background in the image below... \n",
    "\n",
    "<p>\n",
    "<center><img align=center width=600 src=\"https://i1.wp.com/www.irishphilosophy.com/wp-content/uploads/2014/12/Cool-Boole-tweet.jpg?resize=768%2C383&ssl=1\"></img>"
   ]
  },
  {
   "cell_type": "markdown",
   "metadata": {
    "slideshow": {
     "slide_type": "slide"
    }
   },
   "source": [
    "<center>\n",
    "    \n",
    "\n",
    "## <font color='maroon'>ASTR 20500</font>\n",
    "\n",
    "    \n",
    "### <font color='Red'>Introduction</font> to <font color='darkgreen'>Python</font> <font color='purple'>programming</font> with <font color='magenta'>elements of astro statistics</font>\n",
    "</center>\n",
    "\n",
    "<p><p>\n",
    "    \n",
    "### <font color='darkblue'>Recap of Monday class:\n",
    "\n",
    "* Mathematical logic is a foundation of modern computers, which are collections of billions of logic gates operating with 1s and 0s implemented using [transistors](https://www.explainthatstuff.com/howtransistorswork.html). \n",
    "    \n",
    "    \n",
    "* These logic gates are arranged in various sequences to perform different operations. \n",
    "    \n",
    "    \n",
    "* Thus, data and instructions (code) at the *machine (hardware) level* (aka \"low-level\") need to be represented as 1s and 0s (i.e., in the *binary form*). \n",
    "    \n",
    "    \n",
    "* To facilitate programming we use *higher-level* programming languages. High-level programs are translated into binary form by *compilers* and/or *interpreters*. "
   ]
  },
  {
   "cell_type": "markdown",
   "metadata": {
    "slideshow": {
     "slide_type": "skip"
    }
   },
   "source": [
    "Machine code is usually different on different computer platforms (i.e., Mac via PC) because details of hardware and CPU are different. This is another good reason for high-level programming languages. They are platform independent, while dependence on the platform is hidden in the compiler/interpreter. "
   ]
  },
  {
   "cell_type": "markdown",
   "metadata": {
    "slideshow": {
     "slide_type": "fragment"
    }
   },
   "source": [
    "The modern programming language landscape can be gleaned from surveys of programmers like [this one](https://insights.stackoverflow.com/survey/2020#technology-most-loved-dreaded-and-wanted-languages-loved). "
   ]
  },
  {
   "cell_type": "markdown",
   "metadata": {
    "slideshow": {
     "slide_type": "slide"
    }
   },
   "source": [
    "<center>\n",
    "    \n",
    "### <font color='darkblue'>Python visualized</font>\n",
    "</center>\n",
    "\n",
    "<br><br>\n",
    "<center><a href=\"https://www.aruba.com/us/explore/eagle-beach\"><img align=center width=900 src=\"https://astro.uchicago.edu/~andrey/classes/a205f20/img/aruba-beaches-eagle-beach.jpg\"></img></a></center>"
   ]
  },
  {
   "cell_type": "markdown",
   "metadata": {
    "slideshow": {
     "slide_type": "slide"
    }
   },
   "source": [
    "<center>\n",
    "    \n",
    "### <font color='darkblue'>What's in a name?\n",
    "</center>\n",
    "<br>\n",
    "\n",
    "Official Python logo: \n",
    "<br><br>\n",
    "<center><img align=center width=300 src=\"https://astro.uchicago.edu/~andrey/classes/a205f20/img/python_logo_1024.svg\"></img></center>"
   ]
  },
  {
   "cell_type": "markdown",
   "metadata": {
    "slideshow": {
     "slide_type": "slide"
    }
   },
   "source": [
    "<center>\n",
    "    \n",
    "### The actual origin of the name: [The Monty Python](http://www.montypython.com/pythons) comedian collective\n",
    "</center>\n",
    "<br><br>\n",
    "\n",
    "<center><img align=center width=900 src=\"https://astro.uchicago.edu/~andrey/classes/a205f20/img/the_pythons.jpg\"></img></center>"
   ]
  },
  {
   "cell_type": "markdown",
   "metadata": {
    "slideshow": {
     "slide_type": "fragment"
    }
   },
   "source": [
    "[Percentage of all books published in English language referencing Python](https://books.google.com/ngrams/graph?content=python&year_start=1800&year_end=2019&corpus=26&smoothing=3&case_insensitive=true). "
   ]
  },
  {
   "cell_type": "markdown",
   "metadata": {
    "slideshow": {
     "slide_type": "slide"
    }
   },
   "source": [
    "<center>\n",
    "    \n",
    "### <font color='darkblue'>Developed by [Guido van Rossum](https://gvanrossum.github.io/) in 1990-1991\n",
    "<center>\n",
    "    who was a big fan of the Monty Python movies and series\n",
    "</center>\n",
    "<br>\n",
    "\n",
    "<br>\n",
    "<center>\n",
    "Guido van Rossum circa 1995\n",
    "<br>\n",
    "<img align=center width=500 src=\"https://astro.uchicago.edu/~andrey/classes/a205f20/img/guido_van_rossum_1995.jpg\"></center>"
   ]
  },
  {
   "cell_type": "markdown",
   "metadata": {
    "slideshow": {
     "slide_type": "slide"
    }
   },
   "source": [
    "<center>\n",
    "\n",
    "### <font color='darkblue'>Guido van Rossum in 2019\n",
    "</center>\n",
    "<br>\n",
    "<center>\n",
    "<a href=\"https://www.artima.com/weblogs/viewpost.jsp?thread=235725\">Benevolent Python Dictator for Life (1995-2018)</a>\n",
    "</center>\n",
    "    <br><br>\n",
    "<center><img align=center width=700 src=\"https://astro.uchicago.edu/~andrey/classes/a205f20/img/guido_van_rossum_2019.jpg\"></img></center>"
   ]
  },
  {
   "cell_type": "markdown",
   "metadata": {
    "slideshow": {
     "slide_type": "skip"
    }
   },
   "source": [
    "[Python on the verge](https://www.zdnet.com/article/programming-languages-python-is-on-the-verge-of-another-big-step-forward/) of becoming the most popular language. "
   ]
  },
  {
   "cell_type": "markdown",
   "metadata": {
    "slideshow": {
     "slide_type": "skip"
    }
   },
   "source": [
    "Some examples of Python use: \n",
    "\n",
    "* First version of the Google search engine was written in Python (see, S 4.3 in [Brin & Page 2000](http://infolab.stanford.edu/~backrub/google.html)) , and Python is still a large part of the Google infrastructure. "
   ]
  },
  {
   "cell_type": "markdown",
   "metadata": {
    "slideshow": {
     "slide_type": "skip"
    }
   },
   "source": [
    "* Most of the code running YouTube is written in Python"
   ]
  },
  {
   "cell_type": "markdown",
   "metadata": {
    "slideshow": {
     "slide_type": "skip"
    }
   },
   "source": [
    "* Python now is the most popular language in Physical Sciences, including [astronomy](http://learn.astropy.org/rst-tutorials/celestial_coords1.html?highlight=filtertutorials)"
   ]
  },
  {
   "cell_type": "markdown",
   "metadata": {
    "slideshow": {
     "slide_type": "skip"
    }
   },
   "source": [
    "* Python is the most popular language in Data Science and Artificial Intelligence: e.g., [Google colab example of image style transfer](https://www.tensorflow.org/hub/tutorials/tf2_arbitrary_image_stylization) using deep learning with TensorFlow library"
   ]
  },
  {
   "cell_type": "markdown",
   "metadata": {
    "slideshow": {
     "slide_type": "slide"
    }
   },
   "source": [
    "<center><img align=center width=600 src=\"https://i.pinimg.com/originals/11/ea/aa/11eaaa14c130a0578c8a1fdb34ec84d8.jpg\"></img></center>"
   ]
  },
  {
   "cell_type": "markdown",
   "metadata": {
    "slideshow": {
     "slide_type": "skip"
    }
   },
   "source": [
    "### <font color='darkblue'>Python programs are translated into machine code in 2 steps\n",
    "\n",
    "<p>\n",
    "<center><img align=center width=1300 src=\"https://www.devopsschool.com/blog/wp-content/uploads/2020/08/python-virtual-machine.png\"></img>"
   ]
  },
  {
   "cell_type": "code",
   "execution_count": 15,
   "metadata": {
    "slideshow": {
     "slide_type": "skip"
    }
   },
   "outputs": [
    {
     "data": {
      "text/plain": [
       "'Hello, class!'"
      ]
     },
     "execution_count": 15,
     "metadata": {},
     "output_type": "execute_result"
    }
   ],
   "source": [
    "\"Hello, class!\""
   ]
  },
  {
   "cell_type": "markdown",
   "metadata": {
    "slideshow": {
     "slide_type": "skip"
    }
   },
   "source": [
    "In bytecode it looks like this: \n",
    "\n",
    "      1           0 LOAD_CONST               0 ('Hello, class!')\n",
    "                  2 RETURN_VALUE\n",
    "\n"
   ]
  },
  {
   "cell_type": "markdown",
   "metadata": {
    "slideshow": {
     "slide_type": "skip"
    }
   },
   "source": [
    " Note that ***it is not needed*** to understand or know much about bytecode to program in Python. If you are already familiar with Python, and are curious to learn more about the process of compilation you can read more about Python's bytcode <a href=\"https://opensource.com/article/18/4/introduction-python-bytecode\">here</a>."
   ]
  },
  {
   "cell_type": "code",
   "execution_count": 9,
   "metadata": {
    "slideshow": {
     "slide_type": "skip"
    }
   },
   "outputs": [
    {
     "name": "stdout",
     "output_type": "stream",
     "text": [
      "  1           0 LOAD_CONST               0 ('Hello, class!')\n",
      "              2 RETURN_VALUE\n"
     ]
    }
   ],
   "source": [
    "# bytecode of a piece of code can be displayed using dis function of dis module\n",
    "# skip this if you are new to Python\n",
    "import dis\n",
    "dis.dis('\"Hello, class!\"')\n"
   ]
  },
  {
   "cell_type": "markdown",
   "metadata": {
    "slideshow": {
     "slide_type": "skip"
    }
   },
   "source": [
    "The entry into programming with Python is relatively easy compared to other languages (shallow and easy ocean bank by the beach). \n",
    "\n",
    "On the other hand, Python can do tremendous things, so its vast and deep and can be used for a long time for a variety of problems. This does not mean that it's not worth learning any other language. Each language usually outshines others in some specific areas. \n",
    "\n",
    "Currently, Python is definitely # 1 language in [Data Science](https://en.wikipedia.org/wiki/Data_science) and has become indispensable in Astronomical research. "
   ]
  },
  {
   "cell_type": "markdown",
   "metadata": {
    "slideshow": {
     "slide_type": "skip"
    }
   },
   "source": [
    "In Python we can use both 0 or 1 or True or False in such logical (***boolean***) constructs.\n",
    "\n",
    "However, Python uses *operator* <tt>==</tt> instead of <tt>=<tt> for \"identical to\""
   ]
  },
  {
   "cell_type": "code",
   "execution_count": 1,
   "metadata": {
    "slideshow": {
     "slide_type": "slide"
    }
   },
   "outputs": [
    {
     "data": {
      "text/plain": [
       "True"
      ]
     },
     "execution_count": 1,
     "metadata": {},
     "output_type": "execute_result"
    }
   ],
   "source": [
    "True == 1"
   ]
  },
  {
   "cell_type": "markdown",
   "metadata": {
    "slideshow": {
     "slide_type": "skip"
    }
   },
   "source": [
    "However, what seems like a grammatically correct construct using \"***identity operator***\" <tt>is</tt> does not work in Python"
   ]
  },
  {
   "cell_type": "code",
   "execution_count": 9,
   "metadata": {
    "slideshow": {
     "slide_type": "skip"
    }
   },
   "outputs": [
    {
     "data": {
      "text/plain": [
       "False"
      ]
     },
     "execution_count": 9,
     "metadata": {},
     "output_type": "execute_result"
    }
   ],
   "source": [
    "True is 1"
   ]
  },
  {
   "cell_type": "markdown",
   "metadata": {
    "slideshow": {
     "slide_type": "skip"
    }
   },
   "source": [
    "This is because <tt>is</tt> indicates not identical in values, but identical physically, i.e. being stored in the same physical location in memory. "
   ]
  },
  {
   "cell_type": "markdown",
   "metadata": {
    "slideshow": {
     "slide_type": "skip"
    }
   },
   "source": [
    "i.e., <tt>True</tt> is identical to 1, but ***is not*** 1. This is because special keyword <tt>True</tt> and number 1 are located in different locations in computer memory and are indeed not the same thing, even though they are identical. \n",
    "\n",
    "However, "
   ]
  },
  {
   "cell_type": "code",
   "execution_count": 36,
   "metadata": {
    "slideshow": {
     "slide_type": "skip"
    }
   },
   "outputs": [
    {
     "data": {
      "text/plain": [
       "True"
      ]
     },
     "execution_count": 36,
     "metadata": {},
     "output_type": "execute_result"
    }
   ],
   "source": [
    "a = True # = is an \"assignment operator\" \n",
    "a is True"
   ]
  },
  {
   "cell_type": "code",
   "execution_count": 25,
   "metadata": {
    "slideshow": {
     "slide_type": "skip"
    }
   },
   "outputs": [
    {
     "data": {
      "text/plain": [
       "False"
      ]
     },
     "execution_count": 25,
     "metadata": {},
     "output_type": "execute_result"
    }
   ],
   "source": [
    "True + True == True"
   ]
  },
  {
   "cell_type": "code",
   "execution_count": 54,
   "metadata": {
    "slideshow": {
     "slide_type": "skip"
    }
   },
   "outputs": [
    {
     "data": {
      "text/plain": [
       "int"
      ]
     },
     "execution_count": 54,
     "metadata": {},
     "output_type": "execute_result"
    }
   ],
   "source": [
    "type(True + True) # type is a \"built-in\" Python function "
   ]
  },
  {
   "cell_type": "markdown",
   "metadata": {
    "slideshow": {
     "slide_type": "skip"
    }
   },
   "source": [
    "because \"+\" in Python is reserved for algebraic summation of numbers, not for logical operations. When we do <tt>True+True</tt> Python converts <tt>True</tt> to 1's and computes 1+1. You can find detailed information on various *operators* used in Python [here](https://www.w3schools.com/python/python_operators.asp). \n",
    "\n",
    "For logical operations we have special logical operators: <tt>and, or, not</tt>."
   ]
  },
  {
   "cell_type": "code",
   "execution_count": 59,
   "metadata": {
    "slideshow": {
     "slide_type": "skip"
    }
   },
   "outputs": [
    {
     "data": {
      "text/plain": [
       "False"
      ]
     },
     "execution_count": 59,
     "metadata": {},
     "output_type": "execute_result"
    }
   ],
   "source": [
    "True and False"
   ]
  },
  {
   "cell_type": "code",
   "execution_count": 27,
   "metadata": {
    "slideshow": {
     "slide_type": "skip"
    }
   },
   "outputs": [
    {
     "data": {
      "text/plain": [
       "True"
      ]
     },
     "execution_count": 27,
     "metadata": {},
     "output_type": "execute_result"
    }
   ],
   "source": [
    "True or False"
   ]
  },
  {
   "cell_type": "code",
   "execution_count": 29,
   "metadata": {
    "slideshow": {
     "slide_type": "skip"
    }
   },
   "outputs": [
    {
     "data": {
      "text/plain": [
       "False"
      ]
     },
     "execution_count": 29,
     "metadata": {},
     "output_type": "execute_result"
    }
   ],
   "source": [
    "False or False"
   ]
  },
  {
   "cell_type": "code",
   "execution_count": 33,
   "metadata": {
    "slideshow": {
     "slide_type": "skip"
    }
   },
   "outputs": [
    {
     "data": {
      "text/plain": [
       "False"
      ]
     },
     "execution_count": 33,
     "metadata": {},
     "output_type": "execute_result"
    }
   ],
   "source": [
    "not True"
   ]
  },
  {
   "cell_type": "markdown",
   "metadata": {
    "slideshow": {
     "slide_type": "skip"
    }
   },
   "source": [
    "result of operation <tt>not True</tt> is in the same memory location as <tt>False</tt> "
   ]
  },
  {
   "cell_type": "code",
   "execution_count": 34,
   "metadata": {
    "slideshow": {
     "slide_type": "skip"
    }
   },
   "outputs": [
    {
     "data": {
      "text/plain": [
       "True"
      ]
     },
     "execution_count": 34,
     "metadata": {},
     "output_type": "execute_result"
    }
   ],
   "source": [
    "not True is False"
   ]
  },
  {
   "cell_type": "code",
   "execution_count": 35,
   "metadata": {
    "slideshow": {
     "slide_type": "skip"
    }
   },
   "outputs": [
    {
     "data": {
      "text/plain": [
       "True"
      ]
     },
     "execution_count": 35,
     "metadata": {},
     "output_type": "execute_result"
    }
   ],
   "source": [
    "False is not True"
   ]
  },
  {
   "cell_type": "markdown",
   "metadata": {
    "slideshow": {
     "slide_type": "slide"
    }
   },
   "source": [
    "## <font color='darkblue'><tt>if-else</tt> control structure\n",
    "\n",
    "\n",
    "    if \"some condition is true\": \n",
    "        # then do something\n",
    "        ...some code here...\n",
    "    else:\n",
    "        # do something else if condition is not true\n",
    "        ...some other code here..."
   ]
  },
  {
   "cell_type": "code",
   "execution_count": null,
   "metadata": {
    "slideshow": {
     "slide_type": "-"
    }
   },
   "outputs": [],
   "source": []
  },
  {
   "cell_type": "code",
   "execution_count": 3,
   "metadata": {
    "slideshow": {
     "slide_type": "skip"
    }
   },
   "outputs": [
    {
     "name": "stdout",
     "output_type": "stream",
     "text": [
      "a is less then 10\n"
     ]
    }
   ],
   "source": [
    "a = 5\n",
    "\n",
    "if a < 10: \n",
    "    print('a is less then 10')\n",
    "else: \n",
    "    print('a is greater or equal than 10')"
   ]
  },
  {
   "cell_type": "markdown",
   "metadata": {
    "slideshow": {
     "slide_type": "skip"
    }
   },
   "source": [
    "We can combine conditions using logical operators."
   ]
  },
  {
   "cell_type": "code",
   "execution_count": 4,
   "metadata": {
    "slideshow": {
     "slide_type": "skip"
    }
   },
   "outputs": [
    {
     "name": "stdout",
     "output_type": "stream",
     "text": [
      "a is greater or equal to 2 and is less then 10\n"
     ]
    }
   ],
   "source": [
    "if 2 <= a and a < 10: \n",
    "    print('a is greater or equal to 2 and is less then 10')\n",
    "else: \n",
    "    print('a is less than 2 or is greater or equal than 10')"
   ]
  },
  {
   "cell_type": "markdown",
   "metadata": {
    "slideshow": {
     "slide_type": "skip"
    }
   },
   "source": [
    "This can also be written in a form used in mathematics. "
   ]
  },
  {
   "cell_type": "code",
   "execution_count": 5,
   "metadata": {
    "slideshow": {
     "slide_type": "skip"
    }
   },
   "outputs": [
    {
     "name": "stdout",
     "output_type": "stream",
     "text": [
      "a is greater or equal to 2 and is less then 10\n"
     ]
    }
   ],
   "source": [
    "if 2 <= a < 10: \n",
    "    print('a is greater or equal to 2 and is less then 10')\n",
    "else: \n",
    "    print('a is less than 2 or is greater or equal than 10')"
   ]
  },
  {
   "cell_type": "code",
   "execution_count": 42,
   "metadata": {
    "slideshow": {
     "slide_type": "skip"
    }
   },
   "outputs": [
    {
     "name": "stdout",
     "output_type": "stream",
     "text": [
      "Let's keep rolling!\n"
     ]
    }
   ],
   "source": [
    "tired = 1\n",
    "if tired is True: \n",
    "    print(\"I am pretty tired... I think I'll go home now\")\n",
    "else:\n",
    "    print(\"Let's keep rolling!\")"
   ]
  },
  {
   "cell_type": "markdown",
   "metadata": {
    "slideshow": {
     "slide_type": "skip"
    }
   },
   "source": [
    "The statements like \"I am pretty tired\" imply varying degrees of \"tiredness\", while if-else and logical condition allow only categorical outcomes (i.e. tired is either 0 or 1). "
   ]
  },
  {
   "cell_type": "markdown",
   "metadata": {
    "slideshow": {
     "slide_type": "slide"
    }
   },
   "source": [
    "## <font color='darkblue'>Plausible reasoning\n",
    "\n",
    "Was known and widely used in ancient Greece and since. It is a natural way for people to reason. "
   ]
  },
  {
   "cell_type": "markdown",
   "metadata": {
    "slideshow": {
     "slide_type": "skip"
    }
   },
   "source": [
    "Standard deductive reasoning fails in situation like this: \n",
    "\n",
    "    Premise A: If it is raining, the sky is cloudy\n",
    "    Logic (not A): If it is not raining, the sky is cloudless \n",
    "\n",
    "Plausible reasoning instead is something like: \n",
    "\n",
    "    Premise A: If it is raining, the sky is cloudy\n",
    "    Logic (not A): If it is not raining, it is less plausible that it is cloudy\n"
   ]
  },
  {
   "cell_type": "markdown",
   "metadata": {
    "slideshow": {
     "slide_type": "-"
    }
   },
   "source": [
    "Plausible reasoning was developed into a firm mathematical framework by [George Pólya](https://en.wikipedia.org/wiki/George_P%C3%B3lya) in his two-volume book [Mathematics and Plausible Reasoning](https://www.isinj.com/mt-usamo/Mathematics%20and%20Plausible%20Reasoning%20I%20-%20Polya%20G.pdf)\n",
    "\n",
    ">*`\"Certainly, let us learn proving, but also let us learn guessing.\"* = George Pólya\n"
   ]
  },
  {
   "cell_type": "markdown",
   "metadata": {
    "slideshow": {
     "slide_type": "skip"
    }
   },
   "source": [
    "A famous demonstration of George Pólya's maxim quoted above is [Goldbach's conjecture](https://en.wikipedia.org/wiki/Goldbach%27s_conjecture). "
   ]
  },
  {
   "cell_type": "markdown",
   "metadata": {
    "slideshow": {
     "slide_type": "slide"
    }
   },
   "source": [
    "## <font color='darkblue'>Degree of plausibility\n",
    "    \n",
    "Plausible reasoning involves *degrees* of plausibility (or credibility) and thus outcomes are no longer assigned just True or False (0 and 1), but a value between 0 and 1. "
   ]
  },
  {
   "cell_type": "markdown",
   "metadata": {
    "slideshow": {
     "slide_type": "skip"
    }
   },
   "source": [
    "Thus, we need a continunous quantity spanning 0 to 1 to represent such degree of belief. \n",
    "\n",
    "This requires using [*floating point* numbers](https://floating-point-gui.de/formats/fp/). "
   ]
  },
  {
   "cell_type": "markdown",
   "metadata": {
    "slideshow": {
     "slide_type": "fragment"
    }
   },
   "source": [
    "Probability and probability calculus provide a way to deal with **_our_** limited/uncertain knowledge of something, and (almost always) not the intrinsic randomness of that something. \n",
    "    "
   ]
  },
  {
   "cell_type": "markdown",
   "metadata": {
    "slideshow": {
     "slide_type": "skip"
    }
   },
   "source": [
    "**Example:** Coin toss. We usually consider the outcome \"random\", but coin moves according to deterministic laws of classical mechanics. "
   ]
  },
  {
   "cell_type": "markdown",
   "metadata": {
    "slideshow": {
     "slide_type": "skip"
    }
   },
   "source": [
    "**Example:** you are driving through a series of intersections with traffic lights. Each traffic light changes color at regular (non-random) intervals of time, but when we approach each light we do  not know in what stage of the pattern the light is and thus to us change of light appears at a “random” time. Thus, we cannot predict with full certainty whether we will need to stop while going through these intersections.\n"
   ]
  },
  {
   "cell_type": "markdown",
   "metadata": {
    "slideshow": {
     "slide_type": "skip"
    }
   },
   "source": [
    "**Example:** answer to the question whether it will rain on Thursday "
   ]
  },
  {
   "cell_type": "markdown",
   "metadata": {
    "slideshow": {
     "slide_type": "slide"
    }
   },
   "source": [
    "## <font color='darkblue'>How can we estimate probability?  \n",
    "\n",
    "Ok, so I want to know the probability that it will rain tomorrow or next Wednesday. How can I estimate it?"
   ]
  },
  {
   "cell_type": "markdown",
   "metadata": {
    "slideshow": {
     "slide_type": "slide"
    }
   },
   "source": [
    "## <font color='darkblue'>Definition of probability via frequency of events: \n",
    "        \n",
    "In the 17th-19th centuries probability theory was developed by mathematicians, such as J. Bernoulli, A. de Moivre, B. Pascal, S. Poisson, C.F. Gauss and others, to deal with practical problems such as probability of winning or loosing in a game of cards or dice, distribution of crimes in different parts of a city, etc. \n",
    "\n",
    "The natural definition of probability in such cases is \n",
    "\n",
    "                                  number of event occurrences in N experiments\n",
    "        probability of an event = --------------------------------------------  \n",
    "                                                      N\n",
    "\n",
    "The definition assumes sufficiently large N, so this estimate is as close to the true probability as we need.  "
   ]
  },
  {
   "cell_type": "markdown",
   "metadata": {
    "slideshow": {
     "slide_type": "fragment"
    }
   },
   "source": [
    "For example, here is data on the [average fraction of rainy days in Chicago in late September](https://weatherspark.com/m/14091/9/Average-Weather-in-September-in-Chicago-Illinois-United-States). "
   ]
  },
  {
   "cell_type": "markdown",
   "metadata": {
    "slideshow": {
     "slide_type": "skip"
    }
   },
   "source": [
    "This definition assumes that \n",
    "\n",
    "1. We have data for such experiments\n",
    "\n",
    "2. Probability estimated this way is close to its true value for a finite N\n",
    "\n",
    "3. Probability does not change from experiment to experiment\n",
    "\n",
    "[*Law of large numbers*]() is often cited to justify assumption 2, but this \"law\" itself is based on assumptions (that outcome of experiments does not changed with time, that experiments are \"fair\"/unbiased)."
   ]
  },
  {
   "cell_type": "markdown",
   "metadata": {
    "slideshow": {
     "slide_type": "slide"
    }
   },
   "source": [
    "###  <font color='darkblue'>Limitations of the frequency definition: historical supernovae rate\n",
    "\n",
    "The years since 1000 when bright supernovae were [observed by naked eye and reported](https://astronomy.com/news/2020/11/7-naked-eye-supernovae-throughout-human-history): 1006, 1054, 1181, 1572, 1604\n",
    "\n",
    "What is the probability we will get a bright supernova that can be easily seen without telescope in this century? \n",
    "    \n",
    "<p>\n",
    "<center>\n",
    "<img width=800 src=\"https://upload.wikimedia.org/wikipedia/commons/thumb/0/0a/Flammarion_Colored.jpg/1920px-Flammarion_Colored.jpg\"></img>"
   ]
  },
  {
   "cell_type": "markdown",
   "metadata": {
    "slideshow": {
     "slide_type": "skip"
    }
   },
   "source": [
    "### Introduction to Python programming with elements of <font color='magenta'>astro statistics</font>\n",
    "\n",
    "\n",
    "Statistics is a mathematical framework for making decisions and drawing conclusions using incomplete or uncertain information based on plausibility reasoning. "
   ]
  },
  {
   "cell_type": "markdown",
   "metadata": {
    "slideshow": {
     "slide_type": "skip"
    }
   },
   "source": [
    "###  <font color='darkblue'>Summary</font>\n",
    "\n",
    "* Deductive reasoning underlies logic. Mathematical logic operates with 0s and 1s and is the foundation of modern digital computers. "
   ]
  },
  {
   "cell_type": "markdown",
   "metadata": {
    "slideshow": {
     "slide_type": "skip"
    }
   },
   "source": [
    "* Program is a recipe for computer to do specific tasks or calculations. Programming is an art of writing down such recipes. Python will be our language of choice to do programming in this course. "
   ]
  },
  {
   "cell_type": "markdown",
   "metadata": {
    "slideshow": {
     "slide_type": "skip"
    }
   },
   "source": [
    "* Plausible reasoning provides a different, nuanced approach to real-life situations, when in most cases we have limited/incomplete knowledge of the situation or process and thus have to make \"educated guesses\". Statistics is a mathematical framework for doing so. "
   ]
  }
 ],
 "metadata": {
  "celltoolbar": "Slideshow",
  "kernelspec": {
   "display_name": "Python 3",
   "language": "python",
   "name": "python3"
  },
  "language_info": {
   "codemirror_mode": {
    "name": "ipython",
    "version": 3
   },
   "file_extension": ".py",
   "mimetype": "text/x-python",
   "name": "python",
   "nbconvert_exporter": "python",
   "pygments_lexer": "ipython3",
   "version": "3.7.7"
  }
 },
 "nbformat": 4,
 "nbformat_minor": 4
}
